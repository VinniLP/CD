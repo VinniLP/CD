{
 "cells": [
  {
   "cell_type": "markdown",
   "id": "9b03b1bd",
   "metadata": {},
   "source": [
    "# Do While Loop"
   ]
  },
  {
   "cell_type": "code",
   "execution_count": 3,
   "id": "319edf47",
   "metadata": {},
   "outputs": [
    {
     "name": "stdout",
     "output_type": "stream",
     "text": [
      "Defaulting to user installation because normal site-packages is not writeable\n",
      "Requirement already satisfied: prettytable in c:\\users\\user\\appdata\\roaming\\python\\python39\\site-packages (3.7.0)\n",
      "Requirement already satisfied: wcwidth in c:\\programdata\\anaconda3\\lib\\site-packages (from prettytable) (0.2.5)\n"
     ]
    }
   ],
   "source": [
    "!pip install prettytable"
   ]
  },
  {
   "cell_type": "code",
   "execution_count": 22,
   "id": "6866cf7a",
   "metadata": {
    "scrolled": true
   },
   "outputs": [
    {
     "name": "stdout",
     "output_type": "stream",
     "text": [
      "The Statement is:\n",
      "x = 0\n",
      "a = 1\n",
      "b = 2\n",
      "do{\n",
      "x = 1\n",
      "}while(a < b)\n",
      "x = 0 \n",
      "\n",
      "\n",
      "The Three Code Generated is:\n",
      "+-------+--------------------+\n",
      "| Index |        Code        |\n",
      "+-------+--------------------+\n",
      "|   1   |       x = 0        |\n",
      "|   2   |       a = 1        |\n",
      "|   3   |       b = 2        |\n",
      "|   4   |       x = 1        |\n",
      "|   5   | if (a < b) goto(4) |\n",
      "|   6   |       x = 0        |\n",
      "|   7   |        END         |\n",
      "+-------+--------------------+\n"
     ]
    }
   ],
   "source": [
    "from prettytable import PrettyTable\n",
    "\n",
    "def do_while_loop(cleaned_code):\n",
    "    final_code = []\n",
    "    while_idx = None\n",
    "    for i in range(len(cleaned_code)):\n",
    "#         print(final_code)\n",
    "#         print('===================')\n",
    "        codeline = cleaned_code[i]\n",
    "\n",
    "        if 'do' in codeline:\n",
    "            while_idx = i+1\n",
    "#             final_code.append('')\n",
    "        elif 'while' in codeline:\n",
    "            # The loop condition would be enclosed in brackets\n",
    "            start_idx = codeline.index('(')\n",
    "            end_idx = codeline.index(')')\n",
    "            # Select the substring between start_idx and end_idx\n",
    "            bool_condn = ''.join(codeline[start_idx:end_idx+1])\n",
    "#             print(\"kkkkk\"+bool_condn)\n",
    "            final_code.append('if {} goto({})'.format(bool_condn,while_idx))\n",
    "            while_idx = None\n",
    "        else:\n",
    "            final_code.append(codeline)\n",
    "    return final_code\n",
    "\n",
    "with open('code.txt') as f:\n",
    "    code = f.readlines()\n",
    "\n",
    "print('The Statement is:')\n",
    "print(''.join(code))\n",
    "\n",
    "cleaned_code = []\n",
    "for i in range(len(code)):\n",
    "    if code[i] != '\\n':\n",
    "        if code[i][-1] == '\\n':\n",
    "            # don't include the \\n at the end of each line\n",
    "            cleaned_code.append(code[i][:-1].strip())\n",
    "        else:\n",
    "            cleaned_code.append(code[i].strip())\n",
    "\n",
    "final_code = do_while_loop(cleaned_code)\n",
    "\n",
    "final_code.append('END')\n",
    "\n",
    "print('\\nThe Three Code Generated is:')\n",
    "x1 = PrettyTable()\n",
    "x1.field_names = ['Index','Code']\n",
    "for i in range(len(final_code)):\n",
    "\tx1.add_row([i+1,final_code[i]])\n",
    "\n",
    "print(x1)"
   ]
  },
  {
   "cell_type": "code",
   "execution_count": null,
   "id": "7cbea094",
   "metadata": {},
   "outputs": [],
   "source": []
  },
  {
   "cell_type": "markdown",
   "id": "45e6f4ae",
   "metadata": {},
   "source": [
    "# While Loop"
   ]
  },
  {
   "cell_type": "code",
   "execution_count": 11,
   "id": "dd4e41bf",
   "metadata": {},
   "outputs": [
    {
     "name": "stdout",
     "output_type": "stream",
     "text": [
      "The Statement is:\n",
      "c = 0\n",
      "\n",
      "a = 1\n",
      "\n",
      "b = 2\n",
      "\n",
      "do{\n",
      "c = 1\n",
      "}while(a < b)\n",
      "x = 0 \n",
      "\n"
     ]
    },
    {
     "ename": "ValueError",
     "evalue": "substring not found",
     "output_type": "error",
     "traceback": [
      "\u001b[1;31m---------------------------------------------------------------------------\u001b[0m",
      "\u001b[1;31mValueError\u001b[0m                                Traceback (most recent call last)",
      "\u001b[1;32m~\\AppData\\Local\\Temp\\ipykernel_18336\\1694967350.py\u001b[0m in \u001b[0;36m<module>\u001b[1;34m\u001b[0m\n\u001b[0;32m     40\u001b[0m             \u001b[0mcleaned_code\u001b[0m\u001b[1;33m.\u001b[0m\u001b[0mappend\u001b[0m\u001b[1;33m(\u001b[0m\u001b[0mcode\u001b[0m\u001b[1;33m[\u001b[0m\u001b[0mi\u001b[0m\u001b[1;33m]\u001b[0m\u001b[1;33m.\u001b[0m\u001b[0mstrip\u001b[0m\u001b[1;33m(\u001b[0m\u001b[1;33m)\u001b[0m\u001b[1;33m)\u001b[0m\u001b[1;33m\u001b[0m\u001b[1;33m\u001b[0m\u001b[0m\n\u001b[0;32m     41\u001b[0m \u001b[1;33m\u001b[0m\u001b[0m\n\u001b[1;32m---> 42\u001b[1;33m \u001b[0mfinal_code\u001b[0m \u001b[1;33m=\u001b[0m \u001b[0mwhile_loop\u001b[0m\u001b[1;33m(\u001b[0m\u001b[0mcleaned_code\u001b[0m\u001b[1;33m)\u001b[0m\u001b[1;33m\u001b[0m\u001b[1;33m\u001b[0m\u001b[0m\n\u001b[0m\u001b[0;32m     43\u001b[0m \u001b[1;33m\u001b[0m\u001b[0m\n\u001b[0;32m     44\u001b[0m \u001b[0mfinal_code\u001b[0m\u001b[1;33m.\u001b[0m\u001b[0mappend\u001b[0m\u001b[1;33m(\u001b[0m\u001b[1;34m'END'\u001b[0m\u001b[1;33m)\u001b[0m\u001b[1;33m\u001b[0m\u001b[1;33m\u001b[0m\u001b[0m\n",
      "\u001b[1;32m~\\AppData\\Local\\Temp\\ipykernel_18336\\1694967350.py\u001b[0m in \u001b[0;36mwhile_loop\u001b[1;34m(cleaned_code)\u001b[0m\n\u001b[0;32m     10\u001b[0m             \u001b[0mwhile_idx\u001b[0m \u001b[1;33m=\u001b[0m \u001b[0mi\u001b[0m\u001b[1;33m\u001b[0m\u001b[1;33m\u001b[0m\u001b[0m\n\u001b[0;32m     11\u001b[0m             \u001b[1;31m# The loop condition would be enclosed in brackets\u001b[0m\u001b[1;33m\u001b[0m\u001b[1;33m\u001b[0m\u001b[0m\n\u001b[1;32m---> 12\u001b[1;33m             \u001b[0mstart_idx\u001b[0m \u001b[1;33m=\u001b[0m \u001b[0mcodeline\u001b[0m\u001b[1;33m.\u001b[0m\u001b[0mindex\u001b[0m\u001b[1;33m(\u001b[0m\u001b[1;34m'do('\u001b[0m\u001b[1;33m)\u001b[0m\u001b[1;33m\u001b[0m\u001b[1;33m\u001b[0m\u001b[0m\n\u001b[0m\u001b[0;32m     13\u001b[0m             \u001b[0mend_idx\u001b[0m \u001b[1;33m=\u001b[0m \u001b[0mcodeline\u001b[0m\u001b[1;33m.\u001b[0m\u001b[0mindex\u001b[0m\u001b[1;33m(\u001b[0m\u001b[1;34m')'\u001b[0m\u001b[1;33m)\u001b[0m\u001b[1;33m\u001b[0m\u001b[1;33m\u001b[0m\u001b[0m\n\u001b[0;32m     14\u001b[0m             \u001b[1;31m# Select the substring between start_idx and end_idx\u001b[0m\u001b[1;33m\u001b[0m\u001b[1;33m\u001b[0m\u001b[0m\n",
      "\u001b[1;31mValueError\u001b[0m: substring not found"
     ]
    }
   ],
   "source": [
    "!pip install prettytable\n",
    "from prettytable import PrettyTable\n",
    "\n",
    "def while_loop(cleaned_code):\n",
    "    final_code = []\n",
    "    while_idx = None\n",
    "    for i in range(len(cleaned_code)):\n",
    "        codeline = cleaned_code[i]\n",
    "\n",
    "        if 'while' in codeline:\n",
    "            while_idx = i\n",
    "            # The loop condition would be enclosed in brackets\n",
    "            start_idx = codeline.index('do(')\n",
    "            end_idx = codeline.index(')')\n",
    "            # Select the substring between start_idx and end_idx\n",
    "            bool_condn = ''.join(codeline[start_idx:end_idx+1])\n",
    "            final_code.append('if !{} goto({})'.format(bool_condn,None))\n",
    "            while_idx = i\n",
    "        elif '}' in codeline:\n",
    "            final_code.append('goto({})'.format(while_idx+1))\n",
    "            final_code[while_idx] = final_code[while_idx].replace('None',str(i+2))\n",
    "            while_idx = None\n",
    "        else:\n",
    "            final_code.append(codeline)\n",
    "    return final_code\n",
    "\n",
    "\n",
    "with open('code.txt') as f:\n",
    "    code = f.readlines()\n",
    "\n",
    "print('The Statement is:')\n",
    "print(''.join(code))\n",
    "\n",
    "cleaned_code = []\n",
    "for i in range(len(code)):\n",
    "    if code[i] != '\\n':\n",
    "        if code[i][-1] == '\\n':\n",
    "            # don't include the \\n at the end of each line\n",
    "            cleaned_code.append(code[i][:-1].strip())\n",
    "        else:\n",
    "            cleaned_code.append(code[i].strip())\n",
    "\n",
    "final_code = while_loop(cleaned_code)\n",
    "\n",
    "final_code.append('END')\n",
    "\n",
    "print('\\nThe Three Code Generated is:')\n",
    "x1 = PrettyTable()\n",
    "x1.field_names = ['Index','Code']\n",
    "for i in range(len(final_code)):\n",
    "\tx1.add_row([i+1,final_code[i]])\n",
    "\n",
    "print(x1)"
   ]
  }
 ],
 "metadata": {
  "kernelspec": {
   "display_name": "Python 3 (ipykernel)",
   "language": "python",
   "name": "python3"
  },
  "language_info": {
   "codemirror_mode": {
    "name": "ipython",
    "version": 3
   },
   "file_extension": ".py",
   "mimetype": "text/x-python",
   "name": "python",
   "nbconvert_exporter": "python",
   "pygments_lexer": "ipython3",
   "version": "3.9.13"
  }
 },
 "nbformat": 4,
 "nbformat_minor": 5
}
