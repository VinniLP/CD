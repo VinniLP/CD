{
 "cells": [
  {
   "cell_type": "markdown",
   "id": "45e6f4ae",
   "metadata": {},
   "source": [
    "# While Loop"
   ]
  },
  {
   "cell_type": "code",
   "execution_count": 3,
   "id": "dd4e41bf",
   "metadata": {},
   "outputs": [
    {
     "name": "stdout",
     "output_type": "stream",
     "text": [
      "Defaulting to user installation because normal site-packages is not writeable\n",
      "Requirement already satisfied: prettytable in c:\\users\\user\\appdata\\roaming\\python\\python39\\site-packages (3.7.0)\n",
      "Requirement already satisfied: wcwidth in c:\\programdata\\anaconda3\\lib\\site-packages (from prettytable) (0.2.5)\n",
      "The Statement is:\n",
      "c = 0\n",
      "a = 1\n",
      "b = 2\n",
      "while(a < b){\n",
      "c = 1\n",
      "}\n",
      "c = 0 \n",
      "\n",
      "The Three Code Generated is:\n",
      "+-------+--------------------------+\n",
      "| Index |           Code           |\n",
      "+-------+--------------------------+\n",
      "|   1   |          c = 0           |\n",
      "|   2   |          a = 1           |\n",
      "|   3   |          b = 2           |\n",
      "|   4   | if !while(a < b) goto(7) |\n",
      "|   5   |          c = 1           |\n",
      "|   6   |         goto(4)          |\n",
      "|   7   |          c = 0           |\n",
      "|   8   |           END            |\n",
      "+-------+--------------------------+\n"
     ]
    }
   ],
   "source": [
    "!pip install prettytable\n",
    "from prettytable import PrettyTable\n",
    "\n",
    "def while_loop(cleaned_code):\n",
    "    final_code = []\n",
    "    while_idx = None\n",
    "    for i in range(len(cleaned_code)):\n",
    "        codeline = cleaned_code[i]\n",
    "\n",
    "        if 'while' in codeline:\n",
    "            while_idx = i\n",
    "            # The loop condition would be enclosed in brackets\n",
    "            start_idx = codeline.index('while(')\n",
    "            end_idx = codeline.index(')')\n",
    "            # Select the substring between start_idx and end_idx\n",
    "            bool_condn = ''.join(codeline[start_idx:end_idx+1])\n",
    "            final_code.append('if !{} goto({})'.format(bool_condn,None))\n",
    "            while_idx = i\n",
    "        elif '}' in codeline:\n",
    "            final_code.append('goto({})'.format(while_idx+1))\n",
    "            final_code[while_idx] = final_code[while_idx].replace('None',str(i+2))\n",
    "            while_idx = None\n",
    "        else:\n",
    "            final_code.append(codeline)\n",
    "    return final_code\n",
    "\n",
    "\n",
    "with open('code_wh.txt') as f:\n",
    "    code = f.readlines()\n",
    "\n",
    "print('The Statement is:')\n",
    "print(''.join(code))\n",
    "\n",
    "cleaned_code = []\n",
    "for i in range(len(code)):\n",
    "    if code[i] != '\\n':\n",
    "        if code[i][-1] == '\\n':\n",
    "            # don't include the \\n at the end of each line\n",
    "            cleaned_code.append(code[i][:-1].strip())\n",
    "        else:\n",
    "            cleaned_code.append(code[i].strip())\n",
    "\n",
    "final_code = while_loop(cleaned_code)\n",
    "\n",
    "final_code.append('END')\n",
    "\n",
    "print('\\nThe Three Code Generated is:')\n",
    "x1 = PrettyTable()\n",
    "x1.field_names = ['Index','Code']\n",
    "for i in range(len(final_code)):\n",
    "\tx1.add_row([i+1,final_code[i]])\n",
    "\n",
    "print(x1)"
   ]
  }
 ],
 "metadata": {
  "kernelspec": {
   "display_name": "Python 3 (ipykernel)",
   "language": "python",
   "name": "python3"
  },
  "language_info": {
   "codemirror_mode": {
    "name": "ipython",
    "version": 3
   },
   "file_extension": ".py",
   "mimetype": "text/x-python",
   "name": "python",
   "nbconvert_exporter": "python",
   "pygments_lexer": "ipython3",
   "version": "3.9.13"
  }
 },
 "nbformat": 4,
 "nbformat_minor": 5
}
